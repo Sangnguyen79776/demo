{
 "cells": [
  {
   "cell_type": "markdown",
   "id": "7b054d5b-5516-4f5a-a363-a6d4fd065635",
   "metadata": {},
   "source": [
    "# Tools for Data Science Final Assignment\n",
    "\n"
   ]
  },
  {
   "cell_type": "markdown",
   "id": "22267235-8f8c-44b5-acb5-c1084f12cd6e",
   "metadata": {},
   "source": [
    "## Introduction\n",
    "\n",
    "This notebook provides an overview of various tools, languages, and libraries used in data science. It includes examples of code execution and arithmetic operations. The goal is to demonstrate fundamental knowledge of data science tools using Jupyterlite.\n"
   ]
  },
  {
   "cell_type": "markdown",
   "id": "5b454600-3c43-4b80-92f1-a1bfe11f2252",
   "metadata": {},
   "source": [
    "# Tools for Data Science\n"
   ]
  },
  {
   "cell_type": "markdown",
   "id": "2597cbc9-808c-48b4-ad2a-e1a4f5827b9b",
   "metadata": {},
   "source": [
    "This notebook was created as part of the final assignment for the Tools for Data Science course on Coursera. It includes basic examples of Markdown formatting and Python code for data science.\n"
   ]
  },
  {
   "cell_type": "markdown",
   "id": "2e05794f-4c9c-4e72-8349-e098237f6820",
   "metadata": {},
   "source": [
    "**Some of the popular languages that Data Scientists use are:**\n",
    "\n",
    "- Python  \n",
    "- R  \n",
    "- SQL  \n",
    "- Java  \n",
    "- Julia  \n"
   ]
  },
  {
   "cell_type": "markdown",
   "id": "d4c69104-cad0-4fd5-85a3-874b97d36284",
   "metadata": {},
   "source": [
    "Some of the commonly used libraries used by Data Scientists include:\n",
    "- NumPy  \n",
    "- Pandas  \n",
    "- Matplotlib  \n",
    "- Scikit-learn  \n",
    "- TensorFlow  \n"
   ]
  },
  {
   "cell_type": "markdown",
   "id": "a6e7e6f4-d5fe-4d12-a306-27b9c5c172a5",
   "metadata": {},
   "source": [
    "| Data Science Tool     | Description                      |\n",
    "|-----------------------|----------------------------------|\n",
    "| Jupyter Notebook      | Interactive coding environment   |\n",
    "| RStudio               | IDE for R                        |\n",
    "| Apache Zeppelin       | Web-based notebook for analytics |\n",
    "| Spyder                | IDE for Python                   |\n"
   ]
  },
  {
   "cell_type": "markdown",
   "id": "5cdb200a-5e84-4b8a-920a-fe0b1d9bb3a4",
   "metadata": {},
   "source": [
    "Below are some examples of evaluating arithmetic expressions in Python.\n"
   ]
  },
  {
   "cell_type": "code",
   "execution_count": 6,
   "id": "b07d1795-97fa-4ed1-8ec4-76323c15c428",
   "metadata": {},
   "outputs": [
    {
     "data": {
      "text/plain": [
       "17"
      ]
     },
     "execution_count": 6,
     "metadata": {},
     "output_type": "execute_result"
    }
   ],
   "source": [
    "# This expression multiplies 3 by 4 and then adds 5 to the result\n",
    "(3 * 4) + 5\n",
    "\n"
   ]
  },
  {
   "cell_type": "code",
   "execution_count": 7,
   "id": "6c7e49d2-6cfb-45a7-a1b1-8491bffccbc1",
   "metadata": {},
   "outputs": [
    {
     "data": {
      "text/plain": [
       "3.3333333333333335"
      ]
     },
     "execution_count": 7,
     "metadata": {},
     "output_type": "execute_result"
    }
   ],
   "source": [
    "# This will convert 200 minutes to hours\n",
    "minutes = 200\n",
    "hours = minutes / 60\n",
    "hours\n"
   ]
  },
  {
   "cell_type": "markdown",
   "id": "d9209761-1527-47d1-add3-1a8228e7c7a0",
   "metadata": {},
   "source": [
    "**Objectives:**\n",
    "\n",
    "- List popular languages for Data Science  \n",
    "- Identify commonly used libraries in Data Science  \n",
    "- Demonstrate the use of arithmetic expressions in Python  \n",
    "- Create tables using Markdown  \n",
    "- Share a Jupyter notebook via GitHub  \n"
   ]
  },
  {
   "cell_type": "markdown",
   "id": "a9debd51-a26f-451c-aaea-2305059e9226",
   "metadata": {},
   "source": [
    "**Author:** [Your Full Name]\n"
   ]
  },
  {
   "cell_type": "code",
   "execution_count": null,
   "id": "e7a8b05f-09ff-45ff-8d09-462b34a6b40c",
   "metadata": {},
   "outputs": [],
   "source": []
  },
  {
   "cell_type": "code",
   "execution_count": null,
   "id": "80b05913-4295-4aa2-9881-747d1cb97650",
   "metadata": {},
   "outputs": [],
   "source": []
  },
  {
   "cell_type": "code",
   "execution_count": null,
   "id": "3f2dcd84-a7ae-4d17-82a4-2e891554e651",
   "metadata": {},
   "outputs": [],
   "source": []
  }
 ],
 "metadata": {
  "kernelspec": {
   "display_name": "Python 3 (ipykernel)",
   "language": "python",
   "name": "python3"
  },
  "language_info": {
   "codemirror_mode": {
    "name": "ipython",
    "version": 3
   },
   "file_extension": ".py",
   "mimetype": "text/x-python",
   "name": "python",
   "nbconvert_exporter": "python",
   "pygments_lexer": "ipython3",
   "version": "3.12.7"
  }
 },
 "nbformat": 4,
 "nbformat_minor": 5
}
